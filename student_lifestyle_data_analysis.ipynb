{
 "cells": [
  {
   "cell_type": "code",
   "execution_count": 2,
   "id": "3ab22644",
   "metadata": {},
   "outputs": [
    {
     "name": "stdout",
     "output_type": "stream",
     "text": [
      "            Study_Hours_Per_Day  Extracurricular_Hours_Per_Day  \\\n",
      "Student_ID                                                       \n",
      "1                           6.9                            3.8   \n",
      "2                           5.3                            3.5   \n",
      "3                           5.1                            3.9   \n",
      "4                           6.5                            2.1   \n",
      "5                           8.1                            0.6   \n",
      "\n",
      "            Sleep_Hours_Per_Day  Social_Hours_Per_Day  \\\n",
      "Student_ID                                              \n",
      "1                           8.7                   2.8   \n",
      "2                           8.0                   4.2   \n",
      "3                           9.2                   1.2   \n",
      "4                           7.2                   1.7   \n",
      "5                           6.5                   2.2   \n",
      "\n",
      "            Physical_Activity_Hours_Per_Day   GPA Stress_Level  \n",
      "Student_ID                                                      \n",
      "1                                       1.8  2.99     Moderate  \n",
      "2                                       3.0  2.75          Low  \n",
      "3                                       4.6  2.67          Low  \n",
      "4                                       6.5  2.88     Moderate  \n",
      "5                                       6.6  3.51         High  \n"
     ]
    }
   ],
   "source": [
    "import pandas\n",
    "\n",
    "file_path = '.\\student_lifestyle_dataset.csv';\n",
    "\n",
    "df1 = pandas.read_csv(file_path, index_col='Student_ID')\n",
    "print(df1.head())"
   ]
  },
  {
   "cell_type": "code",
   "execution_count": 3,
   "id": "8c1d2d6d",
   "metadata": {},
   "outputs": [
    {
     "name": "stdout",
     "output_type": "stream",
     "text": [
      "       Study_Hours_Per_Day  Extracurricular_Hours_Per_Day  \\\n",
      "count          2000.000000                    2000.000000   \n",
      "mean              7.475800                       1.990100   \n",
      "std               1.423888                       1.155855   \n",
      "min               5.000000                       0.000000   \n",
      "25%               6.300000                       1.000000   \n",
      "50%               7.400000                       2.000000   \n",
      "75%               8.700000                       3.000000   \n",
      "max              10.000000                       4.000000   \n",
      "\n",
      "       Sleep_Hours_Per_Day  Social_Hours_Per_Day  \\\n",
      "count          2000.000000           2000.000000   \n",
      "mean              7.501250              2.704550   \n",
      "std               1.460949              1.688514   \n",
      "min               5.000000              0.000000   \n",
      "25%               6.200000              1.200000   \n",
      "50%               7.500000              2.600000   \n",
      "75%               8.800000              4.100000   \n",
      "max              10.000000              6.000000   \n",
      "\n",
      "       Physical_Activity_Hours_Per_Day          GPA  \n",
      "count                       2000.00000  2000.000000  \n",
      "mean                           4.32830     3.115960  \n",
      "std                            2.51411     0.298674  \n",
      "min                            0.00000     2.240000  \n",
      "25%                            2.40000     2.900000  \n",
      "50%                            4.10000     3.110000  \n",
      "75%                            6.10000     3.330000  \n",
      "max                           13.00000     4.000000  \n"
     ]
    }
   ],
   "source": [
    "print(df1.describe())"
   ]
  },
  {
   "cell_type": "code",
   "execution_count": 6,
   "id": "eacfdbca",
   "metadata": {},
   "outputs": [
    {
     "name": "stdout",
     "output_type": "stream",
     "text": [
      "            Study_Hours_Per_Day  Extracurricular_Hours_Per_Day  \\\n",
      "Student_ID                                                       \n",
      "1                           6.9                            3.8   \n",
      "2                           5.3                            3.5   \n",
      "3                           5.1                            3.9   \n",
      "4                           6.5                            2.1   \n",
      "5                           8.1                            0.6   \n",
      "\n",
      "            Sleep_Hours_Per_Day  Social_Hours_Per_Day  \\\n",
      "Student_ID                                              \n",
      "1                           8.7                   2.8   \n",
      "2                           8.0                   4.2   \n",
      "3                           9.2                   1.2   \n",
      "4                           7.2                   1.7   \n",
      "5                           6.5                   2.2   \n",
      "\n",
      "            Physical_Activity_Hours_Per_Day   GPA Stress_Level  stress_High  \\\n",
      "Student_ID                                                                    \n",
      "1                                       1.8  2.99     Moderate            0   \n",
      "2                                       3.0  2.75          Low            0   \n",
      "3                                       4.6  2.67          Low            0   \n",
      "4                                       6.5  2.88     Moderate            0   \n",
      "5                                       6.6  3.51         High            1   \n",
      "\n",
      "            stress_Low  stress_Moderate  \n",
      "Student_ID                               \n",
      "1                    0                1  \n",
      "2                    1                0  \n",
      "3                    1                0  \n",
      "4                    0                1  \n",
      "5                    0                0  \n"
     ]
    }
   ],
   "source": [
    "onehot_stress = pandas.get_dummies(df1['Stress_Level'], prefix='stress')\n",
    "df2 = pandas.concat([df1, onehot_stress], axis=1)\n",
    "print(df2.head())"
   ]
  },
  {
   "cell_type": "code",
   "execution_count": null,
   "id": "82faea85",
   "metadata": {},
   "outputs": [],
   "source": []
  }
 ],
 "metadata": {
  "kernelspec": {
   "display_name": "Python 3 (ipykernel)",
   "language": "python",
   "name": "python3"
  },
  "language_info": {
   "codemirror_mode": {
    "name": "ipython",
    "version": 3
   },
   "file_extension": ".py",
   "mimetype": "text/x-python",
   "name": "python",
   "nbconvert_exporter": "python",
   "pygments_lexer": "ipython3",
   "version": "3.8.8"
  }
 },
 "nbformat": 4,
 "nbformat_minor": 5
}
